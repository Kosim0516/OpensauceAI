{
 "cells": [
  {
   "cell_type": "markdown",
   "id": "666570c3",
   "metadata": {},
   "source": [
    "# One Pixel Attack\n",
    "## Cifar10\n",
    "\n",
    "### 이미지 불러오기(오토인코더)\n"
   ]
  },
  {
   "cell_type": "code",
   "execution_count": null,
   "id": "fc8b7bf3",
   "metadata": {},
   "outputs": [],
   "source": [
    "import os\n",
    "import cv2\n",
    "import re\n",
    "import matplotlib.pyplot as plt\n",
    "\n",
    "# 이미지 파일이 있는 디렉토리 경로\n",
    "image_directory = \"파일 경로\"\n",
    "\n",
    "# 디렉토리 내의 모든 이미지 파일 가져오기\n",
    "image_files = [f for f in os.listdir(image_directory) if f.endswith('.png')]\n",
    "\n",
    "# 파일 이름에서 숫자 부분을 추출하는 함수\n",
    "def extract_number_from_filename(filename):\n",
    "    # 정규식을 사용하여 \"predicted_image_\" 부분을 제거하고 숫자 부분만 추출\n",
    "    number = re.search(r'\\d+', filename)\n",
    "    if number:\n",
    "        return int(number.group())\n",
    "    else:\n",
    "        return -1  # 숫자가 없는 경우 -1 반환 또는 다른 예외 처리 방법 선택\n",
    "\n",
    "# 파일 이름을 숫자 기준으로 정렬\n",
    "image_files.sort(key=lambda x: extract_number_from_filename(x))\n",
    "\n",
    "# 이미지를 저장할 리스트 변수 생성\n",
    "image_list = []\n",
    "\n",
    "# 이미지 파일을 하나씩 로드하고 리스트 변수에 추가\n",
    "for image_file in image_files:\n",
    "    image_path = os.path.join(image_directory, image_file)\n",
    "    \n",
    "    # 이미지 로드 (BGR 형식)\n",
    "    reconstructed_image = cv2.imread(image_path)\n",
    "\n",
    "    # 이미지가 유효한 경우 BGR에서 RGB로 변환하여 리스트 변수에 추가\n",
    "    if reconstructed_image is not None:\n",
    "        reconstructed_image_rgb = cv2.cvtColor(reconstructed_image, cv2.COLOR_BGR2RGB)\n",
    "        image_list.append(reconstructed_image_rgb)\n",
    "    else:\n",
    "        print(f\"{image_file} 이미지를 로드할 수 없습니다.\")\n",
    "\n",
    "# image_list에는 순서대로 이미지가 저장됩니다.\n"
   ]
  },
  {
   "cell_type": "markdown",
   "id": "0138da4f",
   "metadata": {},
   "source": [
    "## 함수들 import "
   ]
  },
  {
   "cell_type": "code",
   "execution_count": null,
   "id": "3bbd7af1",
   "metadata": {},
   "outputs": [],
   "source": [
    "# If running in Google Colab, import files\n",
    "try:\n",
    "    import google.colab\n",
    "    in_colab = True\n",
    "except:\n",
    "    in_colab = False\n",
    "\n",
    "if in_colab:\n",
    "    !git clone https://github.com/Hyperparticle/one-pixel-attack-keras.git\n",
    "    !mv -v one-pixel-attack-keras/* .\n",
    "    !rm -rf one-pixel-attack-keras\n",
    "\n",
    "# Python Libraries\n",
    "%matplotlib inline\n",
    "import pickle\n",
    "import numpy as np\n",
    "import pandas as pd\n",
    "import matplotlib\n",
    "from keras.datasets import cifar10\n",
    "from keras import backend as K\n",
    "\n",
    "# Custom Networks\n",
    "from networks.lenet import LeNet\n",
    "from networks.pure_cnn import PureCnn\n",
    "from networks.network_in_network import NetworkInNetwork\n",
    "from networks.resnet import ResNet\n",
    "from networks.densenet import DenseNet\n",
    "from networks.wide_resnet import WideResNet\n",
    "from networks.capsnet import CapsNet\n",
    "\n",
    "# Helper functions\n",
    "from differential_evolution import differential_evolution\n",
    "import helper\n",
    "\n",
    "matplotlib.style.use('ggplot')\n",
    "np.random.seed(100)"
   ]
  },
  {
   "cell_type": "markdown",
   "id": "c9c248b1",
   "metadata": {},
   "source": [
    "## Load Dataset"
   ]
  },
  {
   "cell_type": "code",
   "execution_count": null,
   "id": "7afb0415",
   "metadata": {},
   "outputs": [],
   "source": [
    "(x_train, y_train), (x_test, y_test) = cifar10.load_data()\n",
    "\n",
    "image_list = np.array(image_list)\n",
    "print(image_list.ndim)\n",
    "print(len(image_list))"
   ]
  },
  {
   "cell_type": "code",
   "execution_count": null,
   "id": "bcd2aa2a",
   "metadata": {},
   "outputs": [],
   "source": [
    "class_names = ['airplane', 'automobile', 'bird', 'cat', 'deer', 'dog', 'frog', 'horse', 'ship', 'truck']"
   ]
  },
  {
   "cell_type": "code",
   "execution_count": null,
   "id": "4d115eec",
   "metadata": {},
   "outputs": [],
   "source": [
    "def perturb_image(xs, img):\n",
    "    if xs.ndim < 2:\n",
    "        xs = np.array([xs])\n",
    "\n",
    "    tile = [len(xs)] + [1]*(xs.ndim+1)\n",
    "    imgs = np.tile(img, tile)\n",
    "    xs = xs.astype(int)\n",
    "\n",
    "    for x,img in zip(xs, imgs):\n",
    "        pixels = np.split(x, len(x) // 5)\n",
    "        for pixel in pixels:\n",
    "            x_pos, y_pos, *rgb = pixel\n",
    "            img[x_pos, y_pos] = rgb\n",
    "    \n",
    "    return imgs"
   ]
  },
  {
   "cell_type": "markdown",
   "id": "1bbb547e",
   "metadata": {},
   "source": [
    "## Load Models"
   ]
  },
  {
   "cell_type": "code",
   "execution_count": null,
   "id": "eac71fc0",
   "metadata": {},
   "outputs": [],
   "source": [
    "# 모델 선언\n",
    "lenet = LeNet()\n",
    "pure_cnn = PureCnn()\n",
    "net_in_net = NetworkInNetwork()\n",
    "resnet = ResNet()\n",
    "densenet = DenseNet()\n",
    "wide_resnet = WideResNet()\n",
    "\n",
    "\n",
    "models = [lenet, pure_cnn, net_in_net, resnet, densenet, wide_resnet]"
   ]
  },
  {
   "cell_type": "markdown",
   "id": "3273cec7",
   "metadata": {},
   "source": [
    "## 모델 성능 평가"
   ]
  },
  {
   "cell_type": "code",
   "execution_count": null,
   "id": "625c5046",
   "metadata": {},
   "outputs": [],
   "source": [
    "network_stats, correct_imgs = helper.evaluate_models(models, x_test, y_test)\n",
    "correct_imgs = pd.DataFrame(correct_imgs, columns=['name', 'img', 'label', 'confidence', 'pred'])\n",
    "network_stats = pd.DataFrame(network_stats, columns=['name', 'accuracy', 'param_count'])\n",
    "\n",
    "network_stats"
   ]
  },
  {
   "cell_type": "markdown",
   "id": "d5cf8f93",
   "metadata": {},
   "source": [
    "## prediction function"
   ]
  },
  {
   "cell_type": "code",
   "execution_count": null,
   "id": "579d0f6d",
   "metadata": {},
   "outputs": [],
   "source": [
    "def predict_classes(xs, img, target_class, model, minimize=True):\n",
    "    # Perturb the image with the given pixel(s) x and get the prediction of the model\n",
    "    imgs_perturbed = perturb_image(xs, img)\n",
    "    predictions = model.predict(imgs_perturbed)[:,target_class]\n",
    "    # This function should always be minimized, so return its complement if needed\n",
    "    return predictions if minimize else 1 - predictions"
   ]
  },
  {
   "cell_type": "markdown",
   "id": "b4bb9338",
   "metadata": {},
   "source": [
    "## success criterion\n",
    "Define a function so that whenever a given perturbation is sufficient to fool a model, it returns `True`. This will be called the success criterion. The `targeted_attack` boolean flag will indicate whether success means maximization of the target class or minimization of the correct (target) class."
   ]
  },
  {
   "cell_type": "code",
   "execution_count": null,
   "id": "d6be8d54",
   "metadata": {},
   "outputs": [],
   "source": [
    "def attack_success(x, img, target_class, model, targeted_attack=False, verbose=False):\n",
    "    # Perturb the image with the given pixel(s) and get the prediction of the model\n",
    "    attack_image = perturb_image(x, img)\n",
    "\n",
    "    confidence = model.predict(attack_image)[0]\n",
    "    predicted_class = np.argmax(confidence)\n",
    "    # If the prediction is what we want (misclassification or \n",
    "    # targeted classification), return True\n",
    "    if verbose:\n",
    "        print('Confidence:', confidence[target_class])\n",
    "    if ((targeted_attack and predicted_class == target_class) or\n",
    "        (not targeted_attack and predicted_class != target_class)):\n",
    "        return True\n",
    "    # NOTE: return None otherwise (not False), due to how Scipy handles its callback function"
   ]
  },
  {
   "cell_type": "markdown",
   "id": "9e88a09a",
   "metadata": {},
   "source": [
    "## Attack function"
   ]
  },
  {
   "cell_type": "code",
   "execution_count": null,
   "id": "3fb86578",
   "metadata": {},
   "outputs": [],
   "source": [
    "def attack(img_id, model, target=None, pixel_count=1, \n",
    "           maxiter=75, popsize=400, verbose=False):\n",
    "    # Change the target class based on whether this is a targeted attack or not\n",
    "    targeted_attack = target is not None\n",
    "    target_class = target if targeted_attack else y_test[img_id, 0]\n",
    "    \n",
    "    # Define bounds for a flat vector of x,y,r,g,b values\n",
    "    # For more pixels, repeat this layout\n",
    "    bounds = [(0,32), (0,32), (0,256), (0,256), (0,256)] * pixel_count\n",
    "    \n",
    "    # Population multiplier, in terms of the size of the perturbation vector x\n",
    "    popmul = max(1, popsize // len(bounds))\n",
    "    \n",
    "    # Format the predict/callback functions for the differential evolution algorithm\n",
    "    def predict_fn(xs):\n",
    "        return predict_classes(xs, x_test[img_id], target_class, \n",
    "                               model, target is None)\n",
    "    \n",
    "    def callback_fn(x, convergence):\n",
    "        return attack_success(x, x_test[img_id], target_class, \n",
    "                              model, targeted_attack, verbose)\n",
    "    \n",
    "    # Call Scipy's Implementation of Differential Evolution\n",
    "    attack_result = differential_evolution(\n",
    "        predict_fn, bounds, maxiter=maxiter, popsize=popmul,\n",
    "        recombination=1, atol=-1, callback=callback_fn, polish=False)\n",
    "\n",
    "    # Calculate some useful statistics to return from this function\n",
    "    attack_image = perturb_image(attack_result.x, x_test[img_id])[0]\n",
    "    prior_probs = model.predict_one(x_test[img_id])\n",
    "    predicted_probs = model.predict_one(attack_image)\n",
    "    predicted_class = np.argmax(predicted_probs)\n",
    "    actual_class = y_test[img_id, 0]\n",
    "    success = predicted_class != actual_class\n",
    "    cdiff = prior_probs[actual_class] - predicted_probs[actual_class]\n",
    "\n",
    "    # Show the best attempt at a solution (successful or not)\n",
    "    helper.plot_image(attack_image, actual_class, class_names, predicted_class)\n",
    "\n",
    "    return [attack_image,model.name, pixel_count, img_id, actual_class, predicted_class, success, cdiff, prior_probs, predicted_probs, attack_result.x]\n",
    "  "
   ]
  },
  {
   "cell_type": "markdown",
   "id": "0d81b86e",
   "metadata": {},
   "source": [
    "## Untargeted Attack"
   ]
  },
  {
   "cell_type": "code",
   "execution_count": null,
   "id": "80ca2e04",
   "metadata": {},
   "outputs": [],
   "source": [
    "def attack_all(models, samples=500, pixels=(1,3,5), targeted=False, \n",
    "               maxiter=75, popsize=400, verbose=False):\n",
    "    results = []\n",
    "    for model in models:\n",
    "        model_results = []\n",
    "        valid_imgs = correct_imgs[correct_imgs.name == model.name].img\n",
    "        img_samples = np.random.choice(valid_imgs, samples, replace=False)\n",
    "        \n",
    "        for pixel_count in pixels:\n",
    "            for i, img_id in enumerate(img_samples):\n",
    "                print('\\n', model.name, '- image', img_id, '-', i+1, '/', len(img_samples))\n",
    "                targets = [None] if not targeted else range(10)\n",
    "                \n",
    "                for target in targets:\n",
    "                    if targeted:\n",
    "                        print('Attacking with target', class_names[target])\n",
    "                        if target == y_test[img_id, 0]:\n",
    "                            continue\n",
    "                    result = attack(img_id, model, target, pixel_count, \n",
    "                                    maxiter=maxiter, popsize=popsize, \n",
    "                                    verbose=verbose)\n",
    "                    model_results.append(result)\n",
    "                    \n",
    "        results += model_results\n",
    "        helper.checkpoint(results, targeted)\n",
    "    return results"
   ]
  },
  {
   "cell_type": "code",
   "execution_count": null,
   "id": "95bb543e",
   "metadata": {},
   "outputs": [],
   "source": [
    "untargeted = attack_all(models, samples=1000, targeted=False)"
   ]
  },
  {
   "cell_type": "markdown",
   "id": "7ad76309",
   "metadata": {},
   "source": [
    "## 공격 결과 보기"
   ]
  },
  {
   "cell_type": "code",
   "execution_count": null,
   "id": "33df8bcd",
   "metadata": {},
   "outputs": [],
   "source": [
    "# Load the results\n",
    "untargeted, targeted = helper.load_results()"
   ]
  },
  {
   "cell_type": "code",
   "execution_count": null,
   "id": "41b46b5b",
   "metadata": {},
   "outputs": [],
   "source": [
    "columns = ['attack image', 'model', 'pixels', 'image', 'true', 'predicted', 'success', 'cdiff', 'prior_probs', 'predicted_probs', 'perturbation']\n",
    "untargeted_results = pd.DataFrame(untargeted[:1000], columns=columns)\n",
    "targeted_results = pd.DataFrame(targeted, columns=columns)\n",
    "\n"
   ]
  },
  {
   "cell_type": "code",
   "execution_count": null,
   "id": "d5a7a3ae",
   "metadata": {},
   "outputs": [],
   "source": [
    "helper.attack_stats(untargeted_results, models, network_stats)"
   ]
  },
  {
   "cell_type": "markdown",
   "id": "3380a01a",
   "metadata": {},
   "source": [
    "## 공격/방어 평가"
   ]
  },
  {
   "cell_type": "code",
   "execution_count": null,
   "id": "53f68452",
   "metadata": {},
   "outputs": [],
   "source": [
    "# 공격 샘플 번호 받기\n",
    "\n",
    "untargeted_results = np.array(untargeted_results)\n",
    "mod_num = []\n",
    "count = 0\n",
    "\n",
    "for i in range(1000):\n",
    "    mod_num.append(untargeted_results[i][3])\n",
    "    print(mod_num[i])\n",
    "    count = count+1\n",
    "    if(mod_num[i] == 16):\n",
    "        print(\"카운트\",count)\n",
    "\n"
   ]
  },
  {
   "cell_type": "code",
   "execution_count": null,
   "id": "7c76c8e0",
   "metadata": {},
   "outputs": [],
   "source": [
    "# 공격 샘플을 내림차순으로 정렬했기 때문에 내림차순으로 번호 받기\n",
    "\n",
    "mod_num.sort()\n",
    "print(\"정렬된 리스트:\", mod_num) #공격 받은 이미지의 id 인덱스 순서"
   ]
  },
  {
   "cell_type": "code",
   "execution_count": null,
   "id": "056d19ed",
   "metadata": {},
   "outputs": [],
   "source": [
    "Origin_DATA = []\n",
    "for i in range(1000):\n",
    "    Origin_DATA.append(x_test[mod_num[i]]) #공격 샘플에 해당하는 원본 1000개 받기\n",
    "Origin_DATA = np.array(Origin_DATA)\n",
    "\n",
    "Origin_prediction = models.predict(Origin_DATA) #원본 예측\n",
    "Attacked_prediction = resnet.predict(image_list) #공격 받은거 예측\n",
    "\n",
    "helper.plot_image(Origin_DATA[1])\n",
    "helper.plot_image(image_list[1])"
   ]
  },
  {
   "cell_type": "code",
   "execution_count": null,
   "id": "d91076af",
   "metadata": {},
   "outputs": [],
   "source": [
    "after_recon_attack_success = 0\n",
    "after_recon_attack_false = 0\n",
    "\n",
    "for i in range(len(attack_true_id)):\n",
    "    for j in range(len(mod_num)): \n",
    "        if(attack_true_id[i] == mod_num[j]):       \n",
    "            Origin_prediction = models.predict_one(Origin_DATA[i]) #원본 예측\n",
    "            Attacked_prediction = models.predict_one(image_list[i]) #공격 받은거 예측\n",
    "\n",
    "            \n",
    "            max_value_index_attacked_recons = np.argmax(Attacked_prediction) #공격당한 이미지 분류\n",
    "            max_value_index_origin = np.argmax(Origin_prediction) #원본 이미지 분류\n",
    "            \n",
    "            if(max_value_index_origin != max_value_index_attacked_recons): \n",
    "                after_recon_attack_success = after_recon_attack_success + 1\n",
    "                \n",
    "            \n",
    "            \n",
    "print(len(attack_true_id)) #공격 성공한 이미지들의 개수 재구성 전임\n",
    "print(len(correct_id)) #공격 받았던 이미지 1000개 재구성 한 후 원본과 비교했을 때 맞다고 한 결과\n",
    "print(after_recon_attack_success) #올바르게 분류한 이미지 correct_id 중에 공격 성공한것이 남아있을텐데 그것의 개수\n",
    "\n",
    "\n",
    "print(\"초기 공격 성공률 : \", len(attack_true_id)/1000) # 공격 성공한 이미지\n",
    "print(\"초기 공격 성공 개수 : \", len(attack_true_id)) #재구성 전 공격 성공 이미지\n",
    "print(\"초기 공격 받았을 때 올바르게 분류한 이미지 개수 : \", 1000 - len(attack_true_id))\n",
    "print(\"재구성한 후 올바르게 분류한 이미지 개수 : \", len(correct_id)) #약 3% 모델 평가 성능 감소\n",
    "print(\"재구성 후 공격 성공한 이미지 개수 : \", after_recon_attack_success)\n",
    "print(\"재구성 후 방어 성공한 이미지 개수 : \", len(attack_true_id) - after_recon_attack_success)\n",
    "print(\"재구성 후 방어율 : \", (len(attack_true_id) - after_recon_attack_success)/len(attack_true_id)) #모델 평가 성능 3% 감소로 46.8% 방어율을 보여줌0\n",
    "\n"
   ]
  },
  {
   "cell_type": "markdown",
   "id": "553ef16f",
   "metadata": {},
   "source": [
    "### 공격 샘플 저장"
   ]
  },
  {
   "cell_type": "code",
   "execution_count": null,
   "id": "a0a6b93b",
   "metadata": {},
   "outputs": [],
   "source": [
    "import pickle\n",
    "import os\n",
    "from PIL import Image\n",
    "import numpy as np\n",
    "\n",
    "# 이미지를 저장할 디렉터리 생성\n",
    "if not os.path.exists('공격 분류 모델 이름'):\n",
    "    os.makedirs('공격 분류 모델 이름')\n",
    "\n",
    "# 파일 읽기\n",
    "with open('networks/results/' + 'untargeted' + '_results.pkl', 'rb') as f:\n",
    "    data = pickle.load(f)\n",
    "\n",
    "# 재구성된 이미지 저장\n",
    "n = 1000  # 모든 테스트 이미지 저장\n",
    "for i in range(n):\n",
    "    # 이미지 크기를 32x32로 조정\n",
    "    resized_image = np.array(Image.fromarray(data[i][0]).resize((32, 32)))\n",
    "\n",
    "    # 이미지를 그대로 저장\n",
    "    img = Image.fromarray(resized_image)\n",
    "    img.save(f'wide_resnet/{mod_num[i]}.png')\n",
    "\n",
    "print(f\"{n} 재구성된 이미지를 32x32 크기로 저장했습니다.\")\n",
    "\n",
    "#이미지 저장 이거로\n"
   ]
  },
  {
   "cell_type": "markdown",
   "id": "66c79247",
   "metadata": {},
   "source": [
    "## OPA2D-DEF 코드"
   ]
  },
  {
   "cell_type": "code",
   "execution_count": null,
   "id": "1e0c61c8",
   "metadata": {},
   "outputs": [],
   "source": [
    "import tensorflow as tf\n",
    "import numpy as np\n",
    "from scipy.optimize import differential_evolution\n",
    "import matplotlib.pyplot as plt\n",
    "\n",
    "    \n",
    "bounds = [(0, 256), (0, 256), (0, 256)]\n",
    "#original_pred = wide_resnet.predict(image_list)\n",
    "for i in range(len(image_list)):\n",
    "    pixels = image_list[i].copy()\n",
    "    #ori_conf = wide_resnet.predict_one(pixels).max()\n",
    "    original_class = np.argmax(wide_resnet.predict_one(image_list[i]))\n",
    "    res = []\n",
    "\n",
    "    for x in range(32):\n",
    "        for y in range(32):\n",
    "\n",
    "            if(pixels[x][y][0] > 128):\n",
    "                pixels[x][y][0] = 0\n",
    "            else:\n",
    "                pixels[x][y][0] = 255\n",
    "\n",
    "            if(pixels[x][y][1] > 128):\n",
    "                pixels[x][y][1] = 0\n",
    "            else:\n",
    "                pixels[x][y][1] = 255\n",
    "\n",
    "            if(pixels[x][y][2] > 128):\n",
    "                pixels[x][y][2] = 0\n",
    "            else:\n",
    "                pixels[x][y][2] = 255\n",
    "\n",
    "\n",
    "\n",
    "            modified = pixels.copy()\n",
    "            \n",
    "            conf = wide_resnet.predict(modified).max()\n",
    "            ori_conf = wide_resnet.predict(image_list[i]).max()\n",
    "            diff = abs(conf - ori_conf)\n",
    "\n",
    "            res.append((x,y,diff))\n",
    "\n",
    "\n",
    "    sorted_res = sorted(res, key=lambda x: x[2], reverse=True)    \n",
    "    \n",
    "    \n",
    "   \n",
    "    #ori_class = resnet.predict_one(image_list[i])\n",
    "    #ori_class = np.argmax(ori_class)\n",
    "\n",
    "    image = image_list[i].copy()\n",
    "\n",
    "    for j in range(30):\n",
    "        pixel_position = (sorted_res[j][0], sorted_res[j][1])\n",
    "\n",
    "        result = differential_evolution(perturbation, bounds, args=(image, original_class, pixel_position),\n",
    "                                    popsize=50, maxiter=5)\n",
    "\n",
    "        optimal_pixel_values = result.x.astype(int)\n",
    "\n",
    "        # 이미지에 공격적인 픽셀을 적용하여 시각화합니다.\n",
    "        perturbed_image = image.copy()\n",
    "        perturbed_image[pixel_position[0], pixel_position[1]] = optimal_pixel_values\n",
    "\n",
    "        change_class = np.argmax(wide_resnet.predict(perturbed_image)) #DE를 통해 공격 당한 이미지 class 구하기, original은 반복문 전에 predict로 한번에 했음\n",
    "        #original_class = np.argmax(original_pred[i])\n",
    "        print(\"----------------- \", i, \"번째 이미지\", j,\"번째 픽셀 하는 중\")\n",
    "\n",
    "        if(original_class != change_class):\n",
    "            print(\"변경 전 class \", class_names[original_class])\n",
    "            print(\"변경 후 class \", class_names[change_class])\n",
    "            print(i,\"번째 confidence 좌표에서 방어 성공\")\n",
    "            defense_success_count = defense_success_count + 1\n",
    "            break\n",
    "\n",
    "\n",
    "\n",
    "        \n",
    "        \n",
    "print(defense_success_count)"
   ]
  },
  {
   "cell_type": "code",
   "execution_count": null,
   "id": "95680d84",
   "metadata": {},
   "outputs": [],
   "source": []
  },
  {
   "cell_type": "code",
   "execution_count": null,
   "id": "48fb0128",
   "metadata": {},
   "outputs": [],
   "source": []
  },
  {
   "cell_type": "code",
   "execution_count": null,
   "id": "3c2e1112",
   "metadata": {},
   "outputs": [],
   "source": []
  }
 ],
 "metadata": {
  "kernelspec": {
   "display_name": "cuda",
   "language": "python",
   "name": "cuda"
  },
  "language_info": {
   "codemirror_mode": {
    "name": "ipython",
    "version": 3
   },
   "file_extension": ".py",
   "mimetype": "text/x-python",
   "name": "python",
   "nbconvert_exporter": "python",
   "pygments_lexer": "ipython3",
   "version": "3.7.0"
  }
 },
 "nbformat": 4,
 "nbformat_minor": 5
}
